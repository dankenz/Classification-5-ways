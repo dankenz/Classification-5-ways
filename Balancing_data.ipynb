{
 "cells": [
  {
   "cell_type": "markdown",
   "id": "tropical-documentation",
   "metadata": {},
   "source": [
    "# About this notebook\n",
    "Here we are going to simply extract a sample balanced data from the original that is unbalanced. There is 492 cases of fraud in the original dataset, and we can sum another 492 cases of non-fraud to form a new dataset"
   ]
  },
  {
   "cell_type": "code",
   "execution_count": null,
   "id": "obvious-oliver",
   "metadata": {},
   "outputs": [],
   "source": [
    "import pandas as pd\n",
    "import numpy as np"
   ]
  },
  {
   "cell_type": "code",
   "execution_count": null,
   "id": "communist-difference",
   "metadata": {},
   "outputs": [],
   "source": [
    "data=pd.read_csv('C:\\\\Users\\\\User\\\\Documents\\\\ML\\\\simulaçoes de portfolio\\\\fraud\\\\creditcard\\\\creditcard.csv')\n",
    "\n",
    "data1=data[data['Class']==1]\n",
    "data0=data[data['Class']==0]\n",
    "\n",
    "data0=data0.sample(n=492)\n",
    "\n",
    "red_data=pd.concat([data1,data0])\n",
    "red_data=red_data.sample(frac=1)\n"
   ]
  },
  {
   "cell_type": "markdown",
   "id": "grand-framing",
   "metadata": {},
   "source": [
    "Then we only need to export the data to use another time."
   ]
  },
  {
   "cell_type": "code",
   "execution_count": null,
   "id": "occupied-correction",
   "metadata": {},
   "outputs": [],
   "source": [
    "red_data.to_csv('balanced_data.csv')"
   ]
  },
  {
   "cell_type": "code",
   "execution_count": null,
   "id": "administrative-green",
   "metadata": {},
   "outputs": [],
   "source": []
  },
  {
   "cell_type": "code",
   "execution_count": null,
   "id": "final-roller",
   "metadata": {},
   "outputs": [],
   "source": []
  }
 ],
 "metadata": {
  "kernelspec": {
   "display_name": "Python 3",
   "language": "python",
   "name": "python3"
  },
  "language_info": {
   "codemirror_mode": {
    "name": "ipython",
    "version": 3
   },
   "file_extension": ".py",
   "mimetype": "text/x-python",
   "name": "python",
   "nbconvert_exporter": "python",
   "pygments_lexer": "ipython3",
   "version": "3.8.5"
  }
 },
 "nbformat": 4,
 "nbformat_minor": 5
}
